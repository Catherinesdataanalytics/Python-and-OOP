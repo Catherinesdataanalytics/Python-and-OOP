{
 "cells": [
  {
   "cell_type": "markdown",
   "metadata": {},
   "source": [
    "### Pylint"
   ]
  },
  {
   "cell_type": "code",
   "execution_count": 1,
   "metadata": {},
   "outputs": [
    {
     "name": "stdout",
     "output_type": "stream",
     "text": [
      "General error! watch out!\n"
     ]
    }
   ],
   "source": [
    "try:\n",
    "    for i in ['a','b','c']:\n",
    "        print(i**2)\n",
    "except:\n",
    "    print('General error! watch out!')"
   ]
  },
  {
   "cell_type": "code",
   "execution_count": 3,
   "metadata": {},
   "outputs": [
    {
     "name": "stdout",
     "output_type": "stream",
     "text": [
      "error\n",
      "All done\n"
     ]
    }
   ],
   "source": [
    "try:\n",
    "    x=5\n",
    "    y=0\n",
    "    z=x/y\n",
    "except:\n",
    "    print('error')\n",
    "finally:\n",
    "    print('All done')"
   ]
  },
  {
   "cell_type": "code",
   "execution_count": 8,
   "metadata": {
    "collapsed": true
   },
   "outputs": [],
   "source": [
    "def ask():\n",
    "    while True:#or use: while waiting: waiting=True\n",
    "        try:\n",
    "            n=int(input('Enter a number'))\n",
    "        except:\n",
    "            print('Try again')\n",
    "            continue\n",
    "        else:\n",
    "            print('finally right')\n",
    "            break"
   ]
  },
  {
   "cell_type": "code",
   "execution_count": 9,
   "metadata": {},
   "outputs": [
    {
     "name": "stdout",
     "output_type": "stream",
     "text": [
      "Enter a numberdsfgh\n",
      "Try again\n",
      "Enter a numbergh\n",
      "Try again\n",
      "Enter a numberhjfy\n",
      "Try again\n",
      "Enter a number5\n",
      "finally right\n"
     ]
    }
   ],
   "source": [
    "ask()"
   ]
  },
  {
   "cell_type": "markdown",
   "metadata": {},
   "source": [
    "### Pylint(format checking tools)"
   ]
  },
  {
   "cell_type": "code",
   "execution_count": 11,
   "metadata": {},
   "outputs": [
    {
     "name": "stdout",
     "output_type": "stream",
     "text": [
      "Collecting pylint\n",
      "  Downloading pylint-1.8.3-py2.py3-none-any.whl (686kB)\n",
      "\u001b[K    100% |████████████████████████████████| 696kB 1.2MB/s ta 0:00:01\n",
      "\u001b[?25hCollecting isort>=4.2.5 (from pylint)\n",
      "  Downloading isort-4.3.4-py3-none-any.whl (45kB)\n",
      "\u001b[K    100% |████████████████████████████████| 51kB 4.0MB/s ta 0:00:011\n",
      "\u001b[?25hRequirement already satisfied: six in /Applications/anaconda2/envs/py36/lib/python3.6/site-packages (from pylint)\n",
      "Collecting astroid<2.0,>=1.6 (from pylint)\n",
      "  Downloading astroid-1.6.2-py2.py3-none-any.whl (291kB)\n",
      "\u001b[K    100% |████████████████████████████████| 296kB 2.7MB/s ta 0:00:01\n",
      "\u001b[?25hCollecting mccabe (from pylint)\n",
      "  Downloading mccabe-0.6.1-py2.py3-none-any.whl\n",
      "Collecting wrapt (from astroid<2.0,>=1.6->pylint)\n",
      "  Downloading wrapt-1.10.11.tar.gz\n",
      "Collecting lazy-object-proxy (from astroid<2.0,>=1.6->pylint)\n",
      "  Downloading lazy-object-proxy-1.3.1.tar.gz\n",
      "Building wheels for collected packages: wrapt, lazy-object-proxy\n",
      "  Running setup.py bdist_wheel for wrapt ... \u001b[?25ldone\n",
      "\u001b[?25h  Stored in directory: /Users/chenchuqiao/Library/Caches/pip/wheels/56/e1/0f/f7ccf1ed8ceaabccc2a93ce0481f73e589814cbbc439291345\n",
      "  Running setup.py bdist_wheel for lazy-object-proxy ... \u001b[?25ldone\n",
      "\u001b[?25h  Stored in directory: /Users/chenchuqiao/Library/Caches/pip/wheels/c7/08/02/013ac2109ffede05b4fe76c687c37419b5c67a31a2ff1118cc\n",
      "Successfully built wrapt lazy-object-proxy\n",
      "Installing collected packages: isort, wrapt, lazy-object-proxy, astroid, mccabe, pylint\n",
      "Successfully installed astroid-1.6.2 isort-4.3.4 lazy-object-proxy-1.3.1 mccabe-0.6.1 pylint-1.8.3 wrapt-1.10.11\n",
      "\u001b[33mYou are using pip version 9.0.1, however version 9.0.2 is available.\n",
      "You should consider upgrading via the 'pip install --upgrade pip' command.\u001b[0m\n"
     ]
    }
   ],
   "source": [
    "import sys\n",
    "!{sys.executable} -m pip install pylint"
   ]
  },
  {
   "cell_type": "code",
   "execution_count": 15,
   "metadata": {},
   "outputs": [
    {
     "name": "stdout",
     "output_type": "stream",
     "text": [
      "1\n"
     ]
    },
    {
     "ename": "NameError",
     "evalue": "name 'B' is not defined",
     "output_type": "error",
     "traceback": [
      "\u001b[0;31m---------------------------------------------------------------------------\u001b[0m",
      "\u001b[0;31mNameError\u001b[0m                                 Traceback (most recent call last)",
      "\u001b[0;32m<ipython-input-15-e63399d9481b>\u001b[0m in \u001b[0;36m<module>\u001b[0;34m()\u001b[0m\n\u001b[1;32m      2\u001b[0m \u001b[0mb\u001b[0m\u001b[0;34m=\u001b[0m\u001b[0;36m2\u001b[0m\u001b[0;34m\u001b[0m\u001b[0m\n\u001b[1;32m      3\u001b[0m \u001b[0mprint\u001b[0m\u001b[0;34m(\u001b[0m\u001b[0ma\u001b[0m\u001b[0;34m)\u001b[0m\u001b[0;34m\u001b[0m\u001b[0m\n\u001b[0;32m----> 4\u001b[0;31m \u001b[0mprint\u001b[0m\u001b[0;34m(\u001b[0m\u001b[0mB\u001b[0m\u001b[0;34m)\u001b[0m\u001b[0;31m#use : pylint: sfsdg.py\u001b[0m\u001b[0;34m\u001b[0m\u001b[0m\n\u001b[0m\u001b[1;32m      5\u001b[0m \u001b[0;31m#this will give you a report for the code you wrote\u001b[0m\u001b[0;34m\u001b[0m\u001b[0;34m\u001b[0m\u001b[0m\n",
      "\u001b[0;31mNameError\u001b[0m: name 'B' is not defined"
     ]
    }
   ],
   "source": [
    "a=1\n",
    "b=2\n",
    "print(a)\n",
    "print(B)#use : pylint: sfsdg.py\n",
    "#this will give you a report for the code you wrote"
   ]
  },
  {
   "cell_type": "code",
   "execution_count": 16,
   "metadata": {},
   "outputs": [
    {
     "name": "stdout",
     "output_type": "stream",
     "text": [
      "1\n",
      "2\n"
     ]
    }
   ],
   "source": [
    "#this is a better way to write code\n",
    "'''\n",
    "A VERY SIMPLE SCRIPT\n",
    "'''\n",
    "def myfunc():\n",
    "    '''\n",
    "    a simple function\n",
    "    '''\n",
    "    a=1\n",
    "    b=2\n",
    "    print(a)\n",
    "    print(b)#\n",
    "myfunc()"
   ]
  },
  {
   "cell_type": "code",
   "execution_count": 19,
   "metadata": {
    "collapsed": true
   },
   "outputs": [],
   "source": [
    "import pylint#this will give you strict method for yourself"
   ]
  },
  {
   "cell_type": "code",
   "execution_count": 18,
   "metadata": {
    "collapsed": true
   },
   "outputs": [],
   "source": [
    "#will this work?:%pylint sfdg.py"
   ]
  },
  {
   "cell_type": "markdown",
   "metadata": {},
   "source": [
    "### unittest(testing tools)"
   ]
  },
  {
   "cell_type": "code",
   "execution_count": 21,
   "metadata": {
    "collapsed": true
   },
   "outputs": [],
   "source": [
    "#cap.py\n",
    "def cap_text(text):\n",
    "    ''' \n",
    "    INPUT a STRING \n",
    "    OUT PUT a CAP\n",
    "    '''\n",
    "    return text.capitalize()"
   ]
  },
  {
   "cell_type": "code",
   "execution_count": 23,
   "metadata": {
    "collapsed": true
   },
   "outputs": [],
   "source": [
    "#you can reference other python files by using this importy"
   ]
  },
  {
   "cell_type": "code",
   "execution_count": 22,
   "metadata": {},
   "outputs": [
    {
     "ename": "SyntaxError",
     "evalue": "unexpected EOF while parsing (<ipython-input-22-003b9d06d7fa>, line 2)",
     "output_type": "error",
     "traceback": [
      "\u001b[0;36m  File \u001b[0;32m\"<ipython-input-22-003b9d06d7fa>\"\u001b[0;36m, line \u001b[0;32m2\u001b[0m\n\u001b[0;31m    \u001b[0m\n\u001b[0m    ^\u001b[0m\n\u001b[0;31mSyntaxError\u001b[0m\u001b[0;31m:\u001b[0m unexpected EOF while parsing\n"
     ]
    }
   ],
   "source": [
    "import unittest\n",
    "import cap\n",
    "class TestCap(unittest.TestCase):\n",
    "    #unnitest is a built-in reference function\n",
    "    def test_one_word(self):\n",
    "        text='python'\n",
    "        result=cap.cap_text(text)\n",
    "        self.assertEqual(result,'Python')\n",
    "        \n",
    "    def test_multiple_words(self):\n",
    "        text='monty python'\n",
    "        text=cap.cap_text(text)#this will only return'Monty python'\n",
    "        self.assertEqual(result,'Monty Python')#this will errror\n",
    "        #.title make(monty python)to(Monty Python)\n",
    "        \n",
    "if __name__=='__main__':\n",
    "    unittest.main()"
   ]
  },
  {
   "cell_type": "code",
   "execution_count": null,
   "metadata": {
    "collapsed": true
   },
   "outputs": [],
   "source": [
    "if __name__=='__main__':\n",
    "    unittest.main()"
   ]
  },
  {
   "cell_type": "markdown",
   "metadata": {},
   "source": [
    "https://stackoverflow.com/questions/23000075/purpose-of-if-name-main"
   ]
  },
  {
   "cell_type": "markdown",
   "metadata": {},
   "source": [
    "http://effbot.org/pyfaq/tutor-what-is-if-name-main-for.htm"
   ]
  },
  {
   "cell_type": "code",
   "execution_count": null,
   "metadata": {
    "collapsed": true
   },
   "outputs": [],
   "source": [
    "$ cat mymath.py\n",
    "def square(x):\n",
    "    return x * x\n",
    "\n",
    "if __name__ == '__main__':\n",
    "    print \"test: square(42) ==\", square(42)"
   ]
  },
  {
   "cell_type": "code",
   "execution_count": 24,
   "metadata": {},
   "outputs": [
    {
     "ename": "SyntaxError",
     "evalue": "invalid syntax (<ipython-input-24-ef8821ad7037>, line 2)",
     "output_type": "error",
     "traceback": [
      "\u001b[0;36m  File \u001b[0;32m\"<ipython-input-24-ef8821ad7037>\"\u001b[0;36m, line \u001b[0;32m2\u001b[0m\n\u001b[0;31m    $ cat mygame.py\u001b[0m\n\u001b[0m    ^\u001b[0m\n\u001b[0;31mSyntaxError\u001b[0m\u001b[0;31m:\u001b[0m invalid syntax\n"
     ]
    }
   ],
   "source": [
    "$ cat mygame.py\n",
    "import mymath\n",
    "\n",
    "print(\"this is mygame.\")\n",
    "print(mymath.square(17))\n",
    "#In this example, we’ve written mymath.py to be both used as a utility module, as well as a standalone program. \n",
    "#We can run mymath standalone by doing this:"
   ]
  },
  {
   "cell_type": "code",
   "execution_count": null,
   "metadata": {
    "collapsed": true
   },
   "outputs": [],
   "source": [
    "$ python mymath.py\n",
    "test: square(42) == 1764\n",
    "But we can also use mymath.py as a module; let’s see what happens when we run mygame.py:\n",
    "\n",
    "$ python mygame.py\n",
    "this is mygame.\n",
    "289\n"
   ]
  }
 ],
 "metadata": {
  "kernelspec": {
   "display_name": "Python [conda env:py36]",
   "language": "python",
   "name": "conda-env-py36-py"
  },
  "language_info": {
   "codemirror_mode": {
    "name": "ipython",
    "version": 3
   },
   "file_extension": ".py",
   "mimetype": "text/x-python",
   "name": "python",
   "nbconvert_exporter": "python",
   "pygments_lexer": "ipython3",
   "version": "3.6.3"
  }
 },
 "nbformat": 4,
 "nbformat_minor": 2
}
