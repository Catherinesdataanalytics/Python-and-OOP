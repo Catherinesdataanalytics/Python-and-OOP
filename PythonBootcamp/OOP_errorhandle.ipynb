{
 "cells": [
  {
   "cell_type": "markdown",
   "metadata": {},
   "source": [
    "### OOP_errorhandle"
   ]
  },
  {
   "cell_type": "code",
   "execution_count": 2,
   "metadata": {
    "collapsed": true
   },
   "outputs": [],
   "source": [
    "#try(where error may happen)\n",
    "#except(what to be execute when try has error)\n",
    "#finally(a final block of code to be executed regardless of error)"
   ]
  },
  {
   "cell_type": "code",
   "execution_count": 3,
   "metadata": {
    "collapsed": true
   },
   "outputs": [],
   "source": [
    "def add(n1,n2):\n",
    "    print(n1+n2)"
   ]
  },
  {
   "cell_type": "code",
   "execution_count": 4,
   "metadata": {},
   "outputs": [
    {
     "name": "stdout",
     "output_type": "stream",
     "text": [
      "30\n"
     ]
    }
   ],
   "source": [
    "add(10,20)"
   ]
  },
  {
   "cell_type": "code",
   "execution_count": 9,
   "metadata": {
    "collapsed": true
   },
   "outputs": [],
   "source": [
    "number1=10"
   ]
  },
  {
   "cell_type": "code",
   "execution_count": 11,
   "metadata": {},
   "outputs": [
    {
     "name": "stdout",
     "output_type": "stream",
     "text": [
      "please provide a number: 3\n"
     ]
    }
   ],
   "source": [
    "number2=input('please provide a number: ')"
   ]
  },
  {
   "cell_type": "code",
   "execution_count": 15,
   "metadata": {},
   "outputs": [
    {
     "ename": "TypeError",
     "evalue": "unsupported operand type(s) for +: 'int' and 'str'",
     "output_type": "error",
     "traceback": [
      "\u001b[0;31m---------------------------------------------------------------------------\u001b[0m",
      "\u001b[0;31mTypeError\u001b[0m                                 Traceback (most recent call last)",
      "\u001b[0;32m<ipython-input-15-ebeabfb232cd>\u001b[0m in \u001b[0;36m<module>\u001b[0;34m()\u001b[0m\n\u001b[0;32m----> 1\u001b[0;31m \u001b[0madd\u001b[0m\u001b[0;34m(\u001b[0m\u001b[0mnumber1\u001b[0m\u001b[0;34m,\u001b[0m\u001b[0mnumber2\u001b[0m\u001b[0;34m)\u001b[0m\u001b[0;34m\u001b[0m\u001b[0m\n\u001b[0m\u001b[1;32m      2\u001b[0m \u001b[0mprint\u001b[0m\u001b[0;34m(\u001b[0m\u001b[0;34m'Something happend'\u001b[0m\u001b[0;34m)\u001b[0m\u001b[0;31m#this will not excecute\u001b[0m\u001b[0;34m\u001b[0m\u001b[0m\n",
      "\u001b[0;32m<ipython-input-3-48bddae7e371>\u001b[0m in \u001b[0;36madd\u001b[0;34m(n1, n2)\u001b[0m\n\u001b[1;32m      1\u001b[0m \u001b[0;32mdef\u001b[0m \u001b[0madd\u001b[0m\u001b[0;34m(\u001b[0m\u001b[0mn1\u001b[0m\u001b[0;34m,\u001b[0m\u001b[0mn2\u001b[0m\u001b[0;34m)\u001b[0m\u001b[0;34m:\u001b[0m\u001b[0;34m\u001b[0m\u001b[0m\n\u001b[0;32m----> 2\u001b[0;31m     \u001b[0mprint\u001b[0m\u001b[0;34m(\u001b[0m\u001b[0mn1\u001b[0m\u001b[0;34m+\u001b[0m\u001b[0mn2\u001b[0m\u001b[0;34m)\u001b[0m\u001b[0;34m\u001b[0m\u001b[0m\n\u001b[0m",
      "\u001b[0;31mTypeError\u001b[0m: unsupported operand type(s) for +: 'int' and 'str'"
     ]
    }
   ],
   "source": [
    "add(number1,number2)\n",
    "print('Something happend')#this will not excecute"
   ]
  },
  {
   "cell_type": "code",
   "execution_count": 16,
   "metadata": {
    "collapsed": true
   },
   "outputs": [],
   "source": [
    "try : \n",
    "    #attempt this code\n",
    "    result=10+10\n",
    "except:\n",
    "    print(\"Hey it looks like you aren't adding corrctlly\")"
   ]
  },
  {
   "cell_type": "code",
   "execution_count": 17,
   "metadata": {},
   "outputs": [
    {
     "data": {
      "text/plain": [
       "20"
      ]
     },
     "execution_count": 17,
     "metadata": {},
     "output_type": "execute_result"
    }
   ],
   "source": [
    "result"
   ]
  },
  {
   "cell_type": "code",
   "execution_count": 18,
   "metadata": {},
   "outputs": [
    {
     "name": "stdout",
     "output_type": "stream",
     "text": [
      "Hey it looks like you aren't adding corrctlly\n"
     ]
    }
   ],
   "source": [
    "try : \n",
    "    #attempt this code\n",
    "    result=10+'2'\n",
    "except:\n",
    "    print(\"Hey it looks like you aren't adding corrctlly\")"
   ]
  },
  {
   "cell_type": "code",
   "execution_count": 20,
   "metadata": {},
   "outputs": [
    {
     "name": "stdout",
     "output_type": "stream",
     "text": [
      "Add went well\n",
      "20\n"
     ]
    }
   ],
   "source": [
    "try : \n",
    "    #attempt this code\n",
    "    result=10+10\n",
    "except:\n",
    "    print(\"Hey it looks like you aren't adding corrctlly\")\n",
    "else:#eles will not be run when there is no error\n",
    "    print('Add went well')\n",
    "    print(result)#if no error happend,what will be printout"
   ]
  },
  {
   "cell_type": "code",
   "execution_count": 21,
   "metadata": {
    "collapsed": true
   },
   "outputs": [],
   "source": [
    "#new example"
   ]
  },
  {
   "cell_type": "code",
   "execution_count": 24,
   "metadata": {},
   "outputs": [
    {
     "name": "stdout",
     "output_type": "stream",
     "text": [
      "I always run\n"
     ]
    }
   ],
   "source": [
    "try :\n",
    "    f=open('testfile','w')#initiate a new file opened\n",
    "    f.write('Write a test line')\n",
    "except TypeError:#this is bulit-in error function\n",
    "    print('There was a type error')\n",
    "except OSError:\n",
    "    print('Hey you have an os error')\n",
    "finally:\n",
    "    print('I always run')"
   ]
  },
  {
   "cell_type": "code",
   "execution_count": 26,
   "metadata": {},
   "outputs": [
    {
     "name": "stdout",
     "output_type": "stream",
     "text": [
      "Hey you have an os error\n",
      "I always run\n"
     ]
    }
   ],
   "source": [
    "try :\n",
    "    f=open('testfile','r')#read \n",
    "    f.write('Write a test line')\n",
    "except TypeError:#this is bulit-in error function\n",
    "    print('There was a type error')\n",
    "except OSError:\n",
    "    print('Hey you have an os error')\n",
    "finally:#finally means what will always be run finally\n",
    "    print('I always run')"
   ]
  },
  {
   "cell_type": "code",
   "execution_count": 30,
   "metadata": {},
   "outputs": [
    {
     "name": "stdout",
     "output_type": "stream",
     "text": [
      "All the other exceptions\n",
      "I always run\n"
     ]
    }
   ],
   "source": [
    "try:\n",
    "    f=open('testfile','r')#read \n",
    "    f.write('Write a test line')\n",
    "except TypeError:#this is bulit-in error function\n",
    "    print('There was a type error')\n",
    "except:#if we did not specialize these other occations\n",
    "    print('All the other exceptions')\n",
    "else:#only run when no error\n",
    "    print('there is no error')\n",
    "finally:#finally means what will always be run finally\n",
    "    print('I always run')\n"
   ]
  },
  {
   "cell_type": "code",
   "execution_count": 31,
   "metadata": {
    "collapsed": true
   },
   "outputs": [],
   "source": [
    "def ask_for_int():\n",
    "    while True:\n",
    "        try:#select and tab can make indent\n",
    "            result=int(input('Please provide number: '))\n",
    "        except:\n",
    "            print('Whoops! That is not a number')\n",
    "            continue\n",
    "        else:\n",
    "            print('Yes Thanks ')\n",
    "            break#this break ends the while loop\n",
    "            \n",
    "        finally:\n",
    "            print('End fo try/except/finally')\n",
    "            "
   ]
  },
  {
   "cell_type": "code",
   "execution_count": 32,
   "metadata": {},
   "outputs": [
    {
     "name": "stdout",
     "output_type": "stream",
     "text": [
      "Please provide number: 1\n",
      "End fo try/except/finally\n"
     ]
    }
   ],
   "source": [
    "ask_for_int()"
   ]
  },
  {
   "cell_type": "code",
   "execution_count": 34,
   "metadata": {},
   "outputs": [
    {
     "name": "stdout",
     "output_type": "stream",
     "text": [
      "Please provide number: ufos\n",
      "Whoops! That is not a number\n",
      "End fo try/except/finally\n"
     ]
    }
   ],
   "source": [
    "ask_for_int()"
   ]
  },
  {
   "cell_type": "code",
   "execution_count": 39,
   "metadata": {
    "collapsed": true
   },
   "outputs": [],
   "source": [
    "def ask_for_int():\n",
    "    while True:\n",
    "        try:#select and tab can make indent\n",
    "            result=int(input('Please provide number: '))\n",
    "        except:\n",
    "            print('Whoops! That is not a number')\n",
    "            continue#continue returns to the while\n",
    "        else:\n",
    "            print('Yes Thanks ')\n",
    "            break#this break ends the while loop\n",
    "            \n",
    "        finally:#what always be printout\n",
    "            print('I am going to ask you again \\n')"
   ]
  },
  {
   "cell_type": "code",
   "execution_count": 40,
   "metadata": {},
   "outputs": [
    {
     "name": "stdout",
     "output_type": "stream",
     "text": [
      "Please provide number: \n",
      "Whoops! That is not a number\n",
      "I am going to ask you again \n",
      "\n",
      "Please provide number: \n",
      "Whoops! That is not a number\n",
      "I am going to ask you again \n",
      "\n",
      "Please provide number: sfd\n",
      "Whoops! That is not a number\n",
      "I am going to ask you again \n",
      "\n",
      "Please provide number: sfdg\n",
      "Whoops! That is not a number\n",
      "I am going to ask you again \n",
      "\n",
      "Please provide number: 8\n",
      "Yes Thanks \n",
      "I am going to ask you again \n",
      "\n"
     ]
    }
   ],
   "source": [
    "ask_for_int()"
   ]
  },
  {
   "cell_type": "code",
   "execution_count": 38,
   "metadata": {},
   "outputs": [
    {
     "name": "stdout",
     "output_type": "stream",
     "text": [
      "Please provide number: sdfs\n",
      "Whoops! That is not a number\n",
      "End fo try/except/finally\n",
      "Please provide number: 8\n",
      "Yes Thanks \n",
      "End fo try/except/finally\n"
     ]
    }
   ],
   "source": [
    "ask_for_int()#now you have to input until it right"
   ]
  },
  {
   "cell_type": "code",
   "execution_count": null,
   "metadata": {
    "collapsed": true
   },
   "outputs": [],
   "source": []
  }
 ],
 "metadata": {
  "kernelspec": {
   "display_name": "Python [conda env:py36]",
   "language": "python",
   "name": "conda-env-py36-py"
  },
  "language_info": {
   "codemirror_mode": {
    "name": "ipython",
    "version": 3
   },
   "file_extension": ".py",
   "mimetype": "text/x-python",
   "name": "python",
   "nbconvert_exporter": "python",
   "pygments_lexer": "ipython3",
   "version": "3.6.3"
  }
 },
 "nbformat": 4,
 "nbformat_minor": 2
}
