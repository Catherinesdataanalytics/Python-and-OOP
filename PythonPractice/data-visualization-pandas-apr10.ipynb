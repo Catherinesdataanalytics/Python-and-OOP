{
 "cells": [
  {
   "cell_type": "markdown",
   "metadata": {},
   "source": [
    "# Data Visualization in pandas"
   ]
  },
  {
   "cell_type": "markdown",
   "metadata": {},
   "source": [
    "Today, we will continue our coverage of data visualization in Python, focusing on the functionlity within pandas.\n",
    "\n",
    "Friendly Reminders:\n",
    "\n",
    "* Homework #5 is due tonight by 11:59 p.m.\n",
    "* DataCamp Modules for matplotlib and customizing visualizations are due Thursday by 11:59 p.m. (last ones!)"
   ]
  },
  {
   "cell_type": "code",
   "execution_count": 1,
   "metadata": {},
   "outputs": [
    {
     "name": "stdout",
     "output_type": "stream",
     "text": [
      "Populating the interactive namespace from numpy and matplotlib\n"
     ]
    }
   ],
   "source": [
    "%pylab inline\n",
    "import pandas as pd"
   ]
  },
  {
   "cell_type": "markdown",
   "metadata": {},
   "source": [
    "As we have seen, matplotlib provides the low-level functionality for data visualization in Python. The advantage of matplotlib is that it offers full flexibility for developing visualizations ranging from very simple to very complex. The disadvantage is that we still need to write several-to-many lines of code to create a visualization.\n",
    "\n",
    "pandas offers a simpler interface for creating visualizations, and in particular makes it easy to translate Series and DataFrame objects into visual representations very easily via the **.plot** method. The .plot method can be used to create our fundamental set of visualizations, as well as several other types (not listed):\n",
    "\n",
    "* Line chart (line, default)\n",
    "* Scatter plots (scatter)\n",
    "* Histograms (hist) & boxplots (box)\n",
    "* Column (bar) and bar (barh) charts\n",
    "\n",
    "Similar to the previous class, let's create some synthetic data to explore the basic functionality:"
   ]
  },
  {
   "cell_type": "code",
   "execution_count": null,
   "metadata": {},
   "outputs": [],
   "source": [
    "n = 100\n",
    "x = np.random.randn(n)\n",
    "y = np.random.randn(n)"
   ]
  },
  {
   "cell_type": "code",
   "execution_count": null,
   "metadata": {},
   "outputs": [],
   "source": [
    "# Assemble data into DataFrame\n",
    "df = pd.DataFrame({'x': x, 'y': y})\n",
    "df.head()"
   ]
  },
  {
   "cell_type": "markdown",
   "metadata": {},
   "source": [
    "There are two methods for creating visualizations using the .plot method:"
   ]
  },
  {
   "cell_type": "code",
   "execution_count": null,
   "metadata": {},
   "outputs": [],
   "source": [
    "# kind argument\n",
    "df.plot(kind='line')"
   ]
  },
  {
   "cell_type": "code",
   "execution_count": null,
   "metadata": {},
   "outputs": [],
   "source": [
    "# plot function\n",
    "df.plot.line()"
   ]
  },
  {
   "cell_type": "markdown",
   "metadata": {},
   "source": [
    "Note that the name of the plot passed to the **kind** argument and the name of the function match in all cases."
   ]
  },
  {
   "cell_type": "markdown",
   "metadata": {},
   "source": [
    "The .plot method includes arguments for many of the same formatting and labeling tasks that we performed in matplotlib. Either approach can be applied to format and label your visualization.\n",
    "\n",
    "* Figure formatting and layout: figsize, subplots/layout, sharex/y, title, legend\n",
    "* Axes formatting: x/yticks, log scaling (logx/y, loglog), x/ylim, grid, rot\n",
    "* Plot styling: matplotlib arguments such as color, marker, linestyle, linewidth (if applicable)"
   ]
  },
  {
   "cell_type": "code",
   "execution_count": null,
   "metadata": {},
   "outputs": [],
   "source": [
    "df.plot(kind='scatter', x='x', y='y', color='k', marker='.', grid=True);"
   ]
  },
  {
   "cell_type": "code",
   "execution_count": null,
   "metadata": {},
   "outputs": [],
   "source": [
    "df.plot(kind='scatter', x='x', y='y', color='k', marker='.');\n",
    "plt.grid(b=True)"
   ]
  },
  {
   "cell_type": "markdown",
   "metadata": {},
   "source": [
    "Let's visualize our full random walk:"
   ]
  },
  {
   "cell_type": "code",
   "execution_count": null,
   "metadata": {},
   "outputs": [],
   "source": [
    "df.cumsum().plot(x='x', y='y', marker='.', color='k', title='Random Walk Analysis', legend=False, figsize=(8,8))\n",
    "plt.axhline(0, color='0.5', alpha=0.5)\n",
    "plt.axvline(0, color='0.5', alpha=0.5)\n",
    "plt.ylabel('y');"
   ]
  },
  {
   "cell_type": "markdown",
   "metadata": {},
   "source": [
    "Let's reload our tips data to continue exploring data visualization in pandas:"
   ]
  },
  {
   "cell_type": "code",
   "execution_count": null,
   "metadata": {},
   "outputs": [],
   "source": [
    "path = '/Users/seanbarnes/Dropbox/Teaching/Courses/BUDT758X/data/'\n",
    "tips = pd.read_csv(path + 'tips.csv')\n",
    "tips.head()"
   ]
  },
  {
   "cell_type": "markdown",
   "metadata": {},
   "source": [
    "Similar to before, let's calculate the tip_pct to facilitate our analysis:"
   ]
  },
  {
   "cell_type": "code",
   "execution_count": null,
   "metadata": {},
   "outputs": [],
   "source": [
    "tips['tip_pct'] = 100 * tips['tip'] / tips['total_bill']\n",
    "tips['tip_pct'].describe()"
   ]
  },
  {
   "cell_type": "markdown",
   "metadata": {},
   "source": [
    "Let's visualize the distribution of tip_pct:"
   ]
  },
  {
   "cell_type": "code",
   "execution_count": null,
   "metadata": {},
   "outputs": [],
   "source": [
    "# Create figure with suplots\n",
    "fig, ax = plt.subplots(2, 1, sharex=True, figsize=(8,6))\n",
    "\n",
    "# Histogram\n",
    "tips['tip_pct'].plot.hist(bins=np.arange(tips['tip_pct'].max()), ax=ax[0])\n",
    "\n",
    "# Boxplot\n",
    "tips['tip_pct'].plot.box(vert=False, ax=ax[1])\n",
    "\n",
    "# Adjust figure labels\n",
    "ax[0].set_ylabel('')\n",
    "ax[1].set_yticklabels('')\n",
    "ax[1].set_xlabel('Tip Percentage', fontweight='bold', fontsize=12);\n",
    "\n",
    "# Adjust subplot\n",
    "plt.tight_layout()"
   ]
  },
  {
   "cell_type": "markdown",
   "metadata": {},
   "source": [
    "In addition to the standard boxplot functionality in pandas, there is an additional boxplot method of Data Frames, which facilitates more flexible data visualization using boxplots."
   ]
  },
  {
   "cell_type": "code",
   "execution_count": null,
   "metadata": {
    "scrolled": true
   },
   "outputs": [],
   "source": [
    "# GroupBy + Boxplots\n",
    "tips.boxplot(column='total_bill', by='size', flierprops={'marker': '.'}, vert=False, grid=False)\n",
    "plt.xlabel('Total Bill')\n",
    "plt.ylabel('Size')\n",
    "plt.title('');"
   ]
  },
  {
   "cell_type": "markdown",
   "metadata": {},
   "source": [
    "Bar/column charts are one of the most natural visualizations to apply to analysis involving DataFrames, as we often perform descriptive analysis involving categorical variables."
   ]
  },
  {
   "cell_type": "code",
   "execution_count": null,
   "metadata": {},
   "outputs": [],
   "source": [
    "# Who's paying?\n",
    "tips['sex'].value_counts(normalize=True).plot(kind='bar')\n",
    "plt.ylim([0,1]);"
   ]
  },
  {
   "cell_type": "code",
   "execution_count": null,
   "metadata": {},
   "outputs": [],
   "source": [
    "# Who's smoking? - Stacked\n",
    "pd.crosstab(index=tips.sex, columns=tips.smoker).loc[['Male','Female']].plot(kind='bar')\n",
    "plt.xlabel('');"
   ]
  },
  {
   "cell_type": "code",
   "execution_count": null,
   "metadata": {},
   "outputs": [],
   "source": [
    "# Who's smoking? - Stacked\n",
    "pd.crosstab(index=tips.sex, columns=tips.smoker).loc[['Male','Female']].plot(kind='bar', stacked=True)\n",
    "plt.xlabel('');"
   ]
  },
  {
   "cell_type": "code",
   "execution_count": null,
   "metadata": {},
   "outputs": [],
   "source": [
    "# Summarize tip_pct by day of the week\n",
    "order = [('Thur','Lunch'),('Thur','Dinner'),('Fri','Lunch'),('Fri','Dinner'),('Sat','Dinner'),('Sun','Dinner')]\n",
    "tips.groupby(by=['day','time'])['tip_pct'].mean().loc[order].plot(kind='bar', figsize=(12,8), table=True)\n",
    "plt.xticks([])\n",
    "plt.xlabel('');"
   ]
  },
  {
   "cell_type": "code",
   "execution_count": 9,
   "metadata": {},
   "outputs": [
    {
     "data": {
      "text/plain": [
       "0.5555555555555556"
      ]
     },
     "execution_count": 9,
     "metadata": {},
     "output_type": "execute_result"
    }
   ],
   "source": [
    "80/144"
   ]
  },
  {
   "cell_type": "code",
   "execution_count": 15,
   "metadata": {},
   "outputs": [
    {
     "data": {
      "text/plain": [
       "0.46783625730994155"
      ]
     },
     "execution_count": 15,
     "metadata": {},
     "output_type": "execute_result"
    }
   ],
   "source": [
    "48/102.6"
   ]
  },
  {
   "cell_type": "code",
   "execution_count": 13,
   "metadata": {},
   "outputs": [
    {
     "data": {
      "text/plain": [
       "0.7777777777777778"
      ]
     },
     "execution_count": 13,
     "metadata": {},
     "output_type": "execute_result"
    }
   ],
   "source": [
    "56/72"
   ]
  },
  {
   "cell_type": "code",
   "execution_count": 3,
   "metadata": {},
   "outputs": [
    {
     "data": {
      "text/plain": [
       "102.85714285714286"
      ]
     },
     "execution_count": 3,
     "metadata": {},
     "output_type": "execute_result"
    }
   ],
   "source": [
    "12*60/7"
   ]
  },
  {
   "cell_type": "code",
   "execution_count": 14,
   "metadata": {},
   "outputs": [
    {
     "data": {
      "text/plain": [
       "1.1111111111111112"
      ]
     },
     "execution_count": 14,
     "metadata": {},
     "output_type": "execute_result"
    }
   ],
   "source": [
    "40/36"
   ]
  },
  {
   "cell_type": "code",
   "execution_count": 12,
   "metadata": {},
   "outputs": [
    {
     "data": {
      "text/plain": [
       "0.5555555555555556"
      ]
     },
     "execution_count": 12,
     "metadata": {},
     "output_type": "execute_result"
    }
   ],
   "source": [
    "20/36"
   ]
  },
  {
   "cell_type": "code",
   "execution_count": 11,
   "metadata": {},
   "outputs": [
    {
     "data": {
      "text/plain": [
       "0.233326852031888"
      ]
     },
     "execution_count": 11,
     "metadata": {},
     "output_type": "execute_result"
    }
   ],
   "source": [
    "24/102.86"
   ]
  },
  {
   "cell_type": "markdown",
   "metadata": {},
   "source": [
    "## Next Time: Data Visualization in Seaborn"
   ]
  }
 ],
 "metadata": {
  "anaconda-cloud": {},
  "kernelspec": {
   "display_name": "Python [conda env:py36]",
   "language": "python",
   "name": "conda-env-py36-py"
  },
  "language_info": {
   "codemirror_mode": {
    "name": "ipython",
    "version": 3
   },
   "file_extension": ".py",
   "mimetype": "text/x-python",
   "name": "python",
   "nbconvert_exporter": "python",
   "pygments_lexer": "ipython3",
   "version": "3.6.3"
  }
 },
 "nbformat": 4,
 "nbformat_minor": 1
}
